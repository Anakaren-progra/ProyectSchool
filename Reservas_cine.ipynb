{
  "nbformat": 4,
  "nbformat_minor": 0,
  "metadata": {
    "colab": {
      "provenance": [],
      "authorship_tag": "ABX9TyNysfuyv1U/8piktX6vT3nT",
      "include_colab_link": true
    },
    "kernelspec": {
      "name": "python3",
      "display_name": "Python 3"
    },
    "language_info": {
      "name": "python"
    }
  },
  "cells": [
    {
      "cell_type": "markdown",
      "metadata": {
        "id": "view-in-github",
        "colab_type": "text"
      },
      "source": [
        "<a href=\"https://colab.research.google.com/github/Anakaren-progra/ProyectSchool/blob/main/Reservas_cine.ipynb\" target=\"_parent\"><img src=\"https://colab.research.google.com/assets/colab-badge.svg\" alt=\"Open In Colab\"/></a>"
      ]
    },
    {
      "cell_type": "code",
      "execution_count": 1,
      "metadata": {
        "id": "jLevdpCD7dfW"
      },
      "outputs": [],
      "source": [
        "class Persona:\n",
        "\n",
        "    lista=[]\n",
        "\n",
        "    def __init__(self,nombre,correo):\n",
        "        self.nombre=nombre\n",
        "        self.correo=correo\n",
        "\n",
        "    def registrar(self):\n",
        "        Persona.lista.append(self)\n",
        "        print(f\"La persona {self.nombre} ha sido registrada con el correo {self.correo}\")\n",
        "\n",
        "    def actualizar_datos(self,nombre,correo):\n",
        "        self.nombre=nombre\n",
        "        self.correo=correo\n",
        "        print(f\"Los datos han sido actualizados\")\n",
        "\n",
        "    @classmethod\n",
        "    def personas_registradas(cls):\n",
        "        print(\"Personas registradas\")\n",
        "        for Persona in cls.lista:\n",
        "            print(f\"-{Persona.nombre} - {Persona.correo}\")"
      ]
    },
    {
      "cell_type": "code",
      "source": [
        "class Usuario(Persona):\n",
        "    def __init__(self, nombre, correo):\n",
        "        super().__init__(nombre, correo)\n",
        "        self.historial_reservas = []\n",
        "\n",
        "    def reservar(self, funcion, asientos):\n",
        "        if asientos <= funcion.asientos_disponibles:\n",
        "            funcion.asientos_disponibles -= asientos\n",
        "            self.historial_reservas.append({\"funcion\": funcion, \"asientos\": asientos})\n",
        "            print(f\" {self.nombre} reservó {asientos} asientos para '{funcion.pelicula.titulo}' en la sala {funcion.sala.identificador}\")\n",
        "        else:\n",
        "            print(\"Boletos agotados, no hay suficientes asientos disponibles.\")\n",
        "\n",
        "    def cancelar_reserva(self, funcion):\n",
        "        reserva = next((r for r in self.historial_reservas if r[\"funcion\"] == funcion), None)\n",
        "        if reserva:\n",
        "            funcion.asientos_disponibles += reserva[\"asientos\"]\n",
        "            self.historial_reservas.remove(reserva)\n",
        "            print(f\"Reserva cancelada para '{funcion.pelicula.titulo}'.\")\n",
        "        else:\n",
        "            print(\"No tienes una reserva para esta función.\")"
      ],
      "metadata": {
        "id": "HND9SbMY7kD1"
      },
      "execution_count": 2,
      "outputs": []
    },
    {
      "cell_type": "code",
      "source": [
        "class Empleado(Persona):\n",
        "    def __init__(self, nombre, correo, rol):\n",
        "        super().__init__(nombre, correo)\n",
        "        self.rol = rol\n",
        "\n",
        "    def agregar_funcion(self, funcion):\n",
        "        print(f\"Función agregada: {funcion.pelicula.titulo} a las {funcion.hora} en la sala {funcion.sala.identificador}.\")\n",
        "\n",
        "    def modificar_promocion(self, promocion, nuevo_descuento, nuevas_condiciones):\n",
        "        promocion.descuento = nuevo_descuento\n",
        "        promocion.condiciones = nuevas_condiciones\n",
        "        if self.rol == \"Gerente\":\n",
        "            print(f\"Promoción modificada por {self.rol}: {nuevo_descuento}% de descuento. {nuevas_condiciones}.\")\n",
        "        else:\n",
        "            print(f\"Acceso denegado. Solo el gerente puede crear promociones.\")"
      ],
      "metadata": {
        "id": "fSyQnU157ncJ"
      },
      "execution_count": 3,
      "outputs": []
    },
    {
      "cell_type": "code",
      "source": [
        "class Espacio:\n",
        "    def __init__(self,capacidad,identificador):\n",
        "        self.capacidad=capacidad\n",
        "        self.identificador=identificador\n",
        "\n",
        "    def descripcion(self):\n",
        "        print(f\"El edificio tiene tamaño {self.capacidad} y tiene id {self.identificador}\")"
      ],
      "metadata": {
        "id": "RjLybtnw7rYc"
      },
      "execution_count": 4,
      "outputs": []
    },
    {
      "cell_type": "code",
      "source": [
        "class Sala(Espacio):\n",
        "    def __init__(self,capacidad,identificador,tipo):\n",
        "        super().__init__(capacidad,identificador)\n",
        "        self.tipo=tipo\n",
        "        self.disponibilidad=True\n",
        "\n",
        "    def Consultardisponibilidad(self):\n",
        "        if self.disponibilidad:\n",
        "            print(\"La sala esta disponible\")\n",
        "        else:\n",
        "            print(\"La sala esta ocupada\")"
      ],
      "metadata": {
        "id": "uQMJilPt7w5o"
      },
      "execution_count": 5,
      "outputs": []
    },
    {
      "cell_type": "code",
      "source": [
        "class zona_comida:\n",
        "    def __init__(self, producto, precio):\n",
        "        self.producto = producto\n",
        "        self.precio = precio\n",
        "\n",
        "    def mostrar_menu (self):\n",
        "        print (f\"{self.producto} ${self.precio}\")"
      ],
      "metadata": {
        "id": "nFpKrXFm7yjx"
      },
      "execution_count": 6,
      "outputs": []
    },
    {
      "cell_type": "code",
      "source": [
        "class Pelicula:\n",
        "    def __init__(self, titulo, genero, duracion):\n",
        "        self.titulo = titulo\n",
        "        self.genero = genero\n",
        "        self.duracion = duracion"
      ],
      "metadata": {
        "id": "xTtHBzD871Hz"
      },
      "execution_count": 7,
      "outputs": []
    },
    {
      "cell_type": "code",
      "source": [
        "class Funcion:\n",
        "    def __init__(self, pelicula, sala, hora, asientos_disponibles=None):\n",
        "        self.pelicula = pelicula\n",
        "        self.sala = sala\n",
        "        self.hora = hora\n",
        "        self.asientos_disponibles = asientos_disponibles or sala.capacidad"
      ],
      "metadata": {
        "id": "muwR26Zd73r7"
      },
      "execution_count": 8,
      "outputs": []
    },
    {
      "cell_type": "code",
      "source": [
        "class Promocion :\n",
        "\n",
        "    def __init__(self, descuento, condiciones):\n",
        "        self.descuento = descuento\n",
        "        self.condiciones = condiciones\n",
        "\n",
        "    def mostrar(self):\n",
        "          print(f\"Promoción: {self.descuento}% de descuento. Condiciones: {self.condiciones}\")"
      ],
      "metadata": {
        "id": "lZXlDa2U757q"
      },
      "execution_count": 9,
      "outputs": []
    },
    {
      "cell_type": "code",
      "source": [
        "pelicula1 = Pelicula(\"Crepúsculo\", \"Fantasía/Amor\", 136)\n",
        "pelicula2 = Pelicula(\"Titanic\", \"Drama/Romance\", 195)\n",
        "\n",
        "sala1 = Sala(100,\"Sala 1\",\"3DX\")\n",
        "sala2 = Sala(50,\"Sala 2\",\"Tradicional\")\n",
        "\n",
        "funcion1 = Funcion(pelicula1, sala1, \"18:00\")\n",
        "funcion2 = Funcion(pelicula2, sala2, \"20:00\")\n",
        "\n",
        "usuario1 = Usuario(\"Ana Pérez\", \"ana.perez@email.com\")\n",
        "usuario2 = Usuario(\"karen\", \"kareena.dj@gmail.com\")\n",
        "empleado1 = Empleado(\"Luis Martínez\", \"luis.martinez@email.com\", \"Gerente\")\n",
        "empleado2 = Empleado(\"Guillermo Suarez\", \"guille.su@gmail.com\", \"limpieza\")\n",
        "\n",
        "usuario1.registrar()\n",
        "empleado1.registrar()\n",
        "\n",
        "usuario1.reservar(funcion1, 7)\n",
        "usuario2.reservar(funcion2,55)\n",
        "\n",
        "\n",
        "usuario1.cancelar_reserva(funcion1)\n",
        "\n",
        "promocion1 = Promocion(20, \"Válido de lunes a jueves.\")\n",
        "promocion1.mostrar()\n",
        "empleado1.modificar_promocion(promocion1, 30, \"Válido todos los días antes de las 5 PM.\")\n",
        "empleado2.modificar_promocion(promocion1, 15, \"Hasta agotar existencia\" )\n",
        "\n",
        "co1 = zona_comida(\"palomitas\", 120)\n",
        "co2 = zona_comida(\"refresco\", 89)\n",
        "co3 = zona_comida(\"nachos\", 56)\n",
        "\n",
        "co1.mostrar_menu()\n",
        "co2.mostrar_menu()\n",
        "co3.mostrar_menu()\n",
        "\n"
      ],
      "metadata": {
        "colab": {
          "base_uri": "https://localhost:8080/"
        },
        "id": "fenjWmV678WV",
        "outputId": "760671bb-b0a1-438b-fe44-910c8aa544a1"
      },
      "execution_count": 10,
      "outputs": [
        {
          "output_type": "stream",
          "name": "stdout",
          "text": [
            "La persona Ana Pérez ha sido registrada con el correo ana.perez@email.com\n",
            "La persona Luis Martínez ha sido registrada con el correo luis.martinez@email.com\n",
            " Ana Pérez reservó 7 asientos para 'Crepúsculo' en la sala Sala 1\n",
            "Boletos agotados, no hay suficientes asientos disponibles.\n",
            "Reserva cancelada para 'Crepúsculo'.\n",
            "Promoción: 20% de descuento. Condiciones: Válido de lunes a jueves.\n",
            "Promoción modificada por Gerente: 30% de descuento. Válido todos los días antes de las 5 PM..\n",
            "Acceso denegado. Solo el gerente puede crear promociones.\n",
            "palomitas $120\n",
            "refresco $89\n",
            "nachos $56\n"
          ]
        }
      ]
    }
  ]
}