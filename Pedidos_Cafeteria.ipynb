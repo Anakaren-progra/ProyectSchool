{
  "nbformat": 4,
  "nbformat_minor": 0,
  "metadata": {
    "colab": {
      "provenance": [],
      "authorship_tag": "ABX9TyPClHC+NrHLcwGd+8E1lje5",
      "include_colab_link": true
    },
    "kernelspec": {
      "name": "python3",
      "display_name": "Python 3"
    },
    "language_info": {
      "name": "python"
    }
  },
  "cells": [
    {
      "cell_type": "markdown",
      "metadata": {
        "id": "view-in-github",
        "colab_type": "text"
      },
      "source": [
        "<a href=\"https://colab.research.google.com/github/Anakaren-progra/ProyectSchool/blob/main/Pedidos_Cafeteria.ipynb\" target=\"_parent\"><img src=\"https://colab.research.google.com/assets/colab-badge.svg\" alt=\"Open In Colab\"/></a>"
      ]
    },
    {
      "cell_type": "code",
      "execution_count": 1,
      "metadata": {
        "id": "XvKyekBf39Z3"
      },
      "outputs": [],
      "source": [
        "class Persona:\n",
        "    lista = []\n",
        "\n",
        "    def __init__(self, nombre, correo):\n",
        "        self.nombre = nombre\n",
        "        self.correo = correo\n",
        "\n",
        "    def registrar(self):\n",
        "        Persona.lista.append(self)\n",
        "        print(f\"Nuevo registro: {self.nombre}, correo: {self.correo}\")\n",
        "\n",
        "    def actualizar_datos(self, nuevo_nombre, nuevo_correo):\n",
        "        for persona in Persona.lista:\n",
        "            if persona.correo == self.correo:\n",
        "                persona.nombre = nuevo_nombre\n",
        "                persona.correo = nuevo_correo\n",
        "                self.nombre = nuevo_nombre\n",
        "                self.correo = nuevo_correo\n",
        "                print(f\"Datos actualizados: {nuevo_nombre}, {nuevo_correo}\")\n",
        "                return\n",
        "        print(\"No se encontró el usuario en la lista.\")\n",
        "\n",
        "    @classmethod\n",
        "    def personas_registradas(cls):\n",
        "        print(\"Personas registradas:\")\n",
        "        for persona in cls.lista:\n",
        "            print(f\"{persona.nombre} - {persona.correo}\")"
      ]
    },
    {
      "cell_type": "code",
      "source": [
        "class Cliente(Persona):\n",
        "\n",
        "    def __init__(self, nombre, correo):\n",
        "        super().__init__(nombre, correo)\n",
        "        self.historial_pedidos = []\n",
        "        self.puntos_fidelidad = 0\n",
        "\n",
        "    def saludo(self):\n",
        "        print(f\"Bienvenid@ {self.nombre}, este es el menú del día de hoy:\")\n",
        "        Postre.postres_registrados()\n",
        "        Bebida.bebidas_registradas()\n",
        "\n",
        "    def personalizar_bebida(self, opcion_extra):\n",
        "        print(f\"Personaliza tu bebida: {opcion_extra}\")\n",
        "\n",
        "    def acumular_puntos(self, cantidad):\n",
        "        self.puntos_fidelidad += cantidad\n",
        "        print(f\"{self.nombre} ha acumulado {cantidad} puntos. Total: {self.puntos_fidelidad} puntos.\")\n"
      ],
      "metadata": {
        "id": "cR0lT8Sm4JLo"
      },
      "execution_count": 2,
      "outputs": []
    },
    {
      "cell_type": "code",
      "source": [
        "class Empleado(Persona):\n",
        "    lista_empleados = []\n",
        "\n",
        "    def __init__(self, nombre, correo, rol):\n",
        "        super().__init__(nombre, correo)\n",
        "        self.rol = rol\n",
        "\n",
        "    def registrar_empleado(self):\n",
        "        Empleado.lista_empleados.append(self)\n",
        "        print(f\"Nuevo registro: {self.nombre}, correo: {self.correo}, {self.rol}\")\n",
        "\n",
        "    @classmethod\n",
        "    def empleados_registrados(cls):\n",
        "        print(\"Empleados registrados:\")\n",
        "        for empleado in cls.lista_empleados:\n",
        "            print(f\"{empleado.nombre} - {empleado.correo} - {empleado.rol}\")\n"
      ],
      "metadata": {
        "id": "6VSjsHWh4PNU"
      },
      "execution_count": 3,
      "outputs": []
    },
    {
      "cell_type": "code",
      "source": [
        "class ProductoBase:\n",
        "    def __init__(self, producto, precio):\n",
        "        self.producto = producto\n",
        "        self.precio = precio"
      ],
      "metadata": {
        "id": "9OnRwBz14SNE"
      },
      "execution_count": 4,
      "outputs": []
    },
    {
      "cell_type": "code",
      "source": [
        "class Postre(ProductoBase):\n",
        "    list_postre = []\n",
        "\n",
        "    def __init__(self, producto, precio, tipo, ingredientes):\n",
        "        super().__init__(producto, precio)\n",
        "        self.tipo = tipo\n",
        "        self.ingredientes = ingredientes\n",
        "\n",
        "    def registrar_postre(self):\n",
        "        Postre.list_postre.append(self)\n",
        "        return(f\"Nuevo postre: {self.producto}, precio: ${self.precio}, tipo: {self.tipo}\")\n",
        "\n",
        "    @classmethod\n",
        "    def postres_registrados(cls):\n",
        "        print(\"Postres disponibles:\")\n",
        "        for postre in cls.list_postre:\n",
        "            print(f\"{postre.producto} - {postre.tipo}  ${postre.precio}\")\n"
      ],
      "metadata": {
        "id": "_uZCQtqt4Uj-"
      },
      "execution_count": 5,
      "outputs": []
    },
    {
      "cell_type": "code",
      "source": [
        "class Bebida(ProductoBase):\n",
        "    list_bebida = []\n",
        "\n",
        "    def __init__(self, producto, precio, tamaño, tipo_bebida, ingredientes):\n",
        "        super().__init__(producto, precio)\n",
        "        self.tamaño = tamaño\n",
        "        self.tipo_bebida = tipo_bebida\n",
        "        self.ingredientes = ingredientes  # Diccionario con ingredientes y cantidades necesarias\n",
        "\n",
        "    def registrar_bebida(self):\n",
        "        Bebida.list_bebida.append(self)\n",
        "        return(f\"Nueva bebida: {self.producto}, precio: ${self.precio}, tamaño: {self.tamaño}, tipo: {self.tipo_bebida}\")"
      ],
      "metadata": {
        "id": "mcXDKlgC4Xqn"
      },
      "execution_count": 6,
      "outputs": []
    },
    {
      "cell_type": "code",
      "source": [
        "class Inventario:\n",
        "    def __init__(self):\n",
        "        self.ingredientes = {}\n",
        "\n",
        "    def agregar_ingrediente(self, nombre, cantidad, empleado):\n",
        "        if empleado.rol != \"Gerente\":\n",
        "            print(\"Solo un gerente puede modificar el inventario.\")\n",
        "            return\n",
        "        self.ingredientes[nombre] = self.ingredientes.get(nombre, 0) + cantidad\n",
        "        print(f\"Se añadieron {cantidad} unidades de {nombre}.\")\n",
        "\n",
        "    def mostrar_ingredientes(self):\n",
        "        print(\"Ingredientes disponibles:\")\n",
        "        for ing, cantidad in self.ingredientes.items():\n",
        "            print(f\"{ing}: {cantidad}\")\n",
        "        print()\n",
        "\n",
        "    def verificar_disponibilidad(self, pedido):\n",
        "        for ing, cantidad in pedido.items():\n",
        "            if self.ingredientes.get(ing, 0) < cantidad:\n",
        "                print(f\"No hay suficiente {ing} en el inventario.\")\n",
        "                return False\n",
        "        return True\n",
        "\n",
        "    def procesar_pedido(self, pedido):\n",
        "        if not self.verificar_disponibilidad(pedido):\n",
        "            print(\"Pedido rechazado.\")\n",
        "            return False\n",
        "        for ing, cantidad in pedido.items():\n",
        "            self.ingredientes[ing] -= cantidad\n",
        "        print(\"Pedido aceptado y procesado.\")\n",
        "        return True"
      ],
      "metadata": {
        "id": "ewO4x7Y74ahi"
      },
      "execution_count": 7,
      "outputs": []
    },
    {
      "cell_type": "code",
      "source": [
        "class Pedido:\n",
        "    def __init__(self, cliente):\n",
        "        self.cliente = cliente\n",
        "        self.productos = []\n",
        "        self.estado = \"pendiente\"\n",
        "\n",
        "    def agregar_producto(self, producto, opcion_extra=None):\n",
        "        self.productos.append(producto)\n",
        "        if opcion_extra:\n",
        "            print(f\"Producto agregado: {producto.producto} - ${producto.precio} - personalización: {opcion_extra}\")\n",
        "\n",
        "    def calcular_total(self):\n",
        "        return sum(producto.precio for producto in self.productos)\n",
        "\n",
        "    def finalizar_pedido(self, inventario):\n",
        "        ingredientes_requeridos = {}\n",
        "        for producto in self.productos:\n",
        "            for ing, cantidad in producto.ingredientes.items():\n",
        "                ingredientes_requeridos[ing] = ingredientes_requeridos.get(ing, 0) + cantidad\n",
        "\n",
        "        if inventario.procesar_pedido(ingredientes_requeridos):\n",
        "            self.estado = \"entregado\"\n",
        "            self.cliente.acumular_puntos(9)\n",
        "            print(f\"Pedido de {self.cliente.nombre} finalizado. Total: ${self.calcular_total()}\")\n"
      ],
      "metadata": {
        "id": "TjKXtMxn4e3m"
      },
      "execution_count": 8,
      "outputs": []
    },
    {
      "cell_type": "code",
      "source": [
        "class Promocion:\n",
        "    def __init__(self, descuento, producto, condicion):\n",
        "        self.descuento = descuento\n",
        "        self.producto = producto\n",
        "        self.condicion = condicion\n",
        "\n",
        "    def aplicar_descuento(self, empleado, cliente):\n",
        "        if empleado.rol != \"Gerente\":\n",
        "            print(\"Solo un gerente puede aplicar promociones.\")\n",
        "            return\n",
        "        if cliente.puntos_fidelidad < 10:\n",
        "            print(f\"{cliente.nombre} no tiene suficientes puntos de fidelidad para acceder a la promoción.\")\n",
        "            return\n",
        "        print(f\"Promoción aplicada: {self.descuento}% de descuento en {self.producto} - Condición: {self.condicion}\")\n"
      ],
      "metadata": {
        "id": "lTwk24Ve4iGz"
      },
      "execution_count": 9,
      "outputs": []
    },
    {
      "cell_type": "code",
      "source": [
        "cliente1 = Cliente(\"Anny\", \"ana@hotmail.com\")\n",
        "cliente1.registrar()\n",
        "cliente2 = Cliente(\"Juan\", \"juancho_w@hotmail.com\")\n",
        "cliente2.registrar()\n",
        "\n",
        "empleado1 = Empleado(\"Luis\", \"Lds_21@hotmail.com\", \"Gerente\")\n",
        "empleado2 = Empleado(\"Karla\", \"karlita_rosa@hotmail.com\", \"Mesera\")\n",
        "empleado3 = Empleado(\"Alfonso\", \"al.76s@gmail.com\",\"Barista\")\n",
        "empleado2.registrar_empleado()\n",
        "empleado1.registrar_empleado()\n",
        "empleado3.registrar_empleado()\n",
        "\n",
        "#Definir postres con ingredientes\n",
        "postre1=Postre(\"cheesecake\",37,\"sin gluten\",{\"queso\": 2, \"leche avena\": 3, \"harina\": 1})\n",
        "postre2=Postre(\"muffin\",40,\"sin azucar\",{\"chocolate\": 2, \"leche\": 3, \"huevo\": 1, \"harina\": 3})\n",
        "postre3=Postre(\"coockie\",20,\"vegano\", {\"chocolate\": 2, \"leche avena\": 3, \"azúcar\": 1, \"harina\": 4})\n",
        "postre1.registrar_postre()\n",
        "postre2.registrar_postre()\n",
        "postre3.registrar_postre()\n",
        "\n",
        "\n",
        "# Definir bebidas con ingredientes\n",
        "bebida1 = Bebida(\"Capuchino\", 80, \"grande\", \"caliente\", {\"café\": 2, \"leche\": 3, \"azúcar\": 1})\n",
        "bebida2 = Bebida(\"Frappé\", 68, \"mediano\", \"frío\", {\"café\": 1, \"hielo\": 2, \"leche\": 2})\n",
        "bebida3 = Bebida(\"Mokachino\", 85, \"mediano\", \"frío\", {\"café\": 2, \"leche\": 3, \"chocolate\": 2})\n",
        "bebida1.registrar_bebida()\n",
        "bebida2.registrar_bebida()\n",
        "bebida3.registrar_bebida()\n",
        "\n",
        "# Inventario inicial\n",
        "inventario = Inventario()\n",
        "inventario.agregar_ingrediente(\"café\", 10, empleado1)\n",
        "inventario.agregar_ingrediente(\"leche\",30 , empleado1)\n",
        "inventario.agregar_ingrediente(\"azúcar\", 10, empleado1)\n",
        "inventario.agregar_ingrediente(\"hielo\", 2, empleado1)\n",
        "inventario.agregar_ingrediente(\"chocolate\", 6, empleado1)\n",
        "inventario.agregar_ingrediente(\"bombones\", 100, empleado1)\n",
        "inventario.agregar_ingrediente(\"leche avena\", 100, empleado1)\n",
        "inventario.agregar_ingrediente(\"harina\", 20, empleado1)\n",
        "inventario.agregar_ingrediente(\"huevo\", 20, empleado1)\n",
        "inventario.agregar_ingrediente(\"queso\", 20, empleado1)\n",
        "\n",
        "\n",
        "pedido1 = Pedido(cliente1)\n",
        "pedido1.agregar_producto(bebida2,\"bombones\")\n",
        "pedido1.agregar_producto(bebida3,\"leche avena\")\n",
        "pedido1.finalizar_pedido(inventario)\n",
        "\n",
        "pedido2 = Pedido(cliente1)\n",
        "pedido2.agregar_producto(postre3)\n",
        "pedido2.agregar_producto(bebida1,\"sin azúcar\")\n",
        "pedido2.agregar_producto(bebida3)\n",
        "pedido2.finalizar_pedido(inventario)\n",
        "\n",
        "pedido3 = Pedido(cliente2)\n",
        "pedido3.agregar_producto(bebida2)\n",
        "pedido3.finalizar_pedido(inventario)\n",
        "\n",
        "promocion1 = Promocion (10,\"Mokachino\",\"en tu próxima visita\")\n",
        "promocion1.aplicar_descuento(empleado1,cliente1)\n",
        "\n",
        "\n",
        "promocion2 = Promocion (10,\"Mokachino\",\"en tu próxima visita\")\n",
        "promocion2.aplicar_descuento(empleado1,cliente2)\n",
        "\n",
        "\n",
        "\n"
      ],
      "metadata": {
        "colab": {
          "base_uri": "https://localhost:8080/"
        },
        "id": "1vK_SCen4lBD",
        "outputId": "782c6b63-289a-47a3-9468-da945497d827"
      },
      "execution_count": 17,
      "outputs": [
        {
          "output_type": "stream",
          "name": "stdout",
          "text": [
            "Nuevo registro: Anny, correo: ana@hotmail.com\n",
            "Nuevo registro: Juan, correo: juancho_w@hotmail.com\n",
            "Nuevo registro: Karla, correo: karlita_rosa@hotmail.com, Mesera\n",
            "Nuevo registro: Luis, correo: Lds_21@hotmail.com, Gerente\n",
            "Nuevo registro: Alfonso, correo: al.76s@gmail.com, Barista\n",
            "Se añadieron 10 unidades de café.\n",
            "Se añadieron 30 unidades de leche.\n",
            "Se añadieron 10 unidades de azúcar.\n",
            "Se añadieron 2 unidades de hielo.\n",
            "Se añadieron 6 unidades de chocolate.\n",
            "Se añadieron 100 unidades de bombones.\n",
            "Se añadieron 100 unidades de leche avena.\n",
            "Se añadieron 20 unidades de harina.\n",
            "Se añadieron 20 unidades de huevo.\n",
            "Se añadieron 20 unidades de queso.\n",
            "Producto agregado: Frappé - $68 - personalización: bombones\n",
            "Producto agregado: Mokachino - $85 - personalización: leche avena\n",
            "Pedido aceptado y procesado.\n",
            "Anny ha acumulado 9 puntos. Total: 9 puntos.\n",
            "Pedido de Anny finalizado. Total: $153\n",
            "Producto agregado: Capuchino - $80 - personalización: sin azúcar\n",
            "Pedido aceptado y procesado.\n",
            "Anny ha acumulado 9 puntos. Total: 18 puntos.\n",
            "Pedido de Anny finalizado. Total: $185\n",
            "No hay suficiente hielo en el inventario.\n",
            "Pedido rechazado.\n",
            "Promoción aplicada: 10% de descuento en Mokachino - Condición: en tu próxima visita\n",
            "Juan no tiene suficientes puntos de fidelidad para acceder a la promoción.\n"
          ]
        }
      ]
    }
  ]
}