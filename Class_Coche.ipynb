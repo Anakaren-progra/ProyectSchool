{
 "cells": [
  {
   "cell_type": "code",
   "execution_count": 10,
   "metadata": {},
   "outputs": [
    {
     "name": "stdout",
     "output_type": "stream",
     "text": [
      "Este coche es de color amarillo de la marca Chevrolet y modelo aveo del año 2020\n",
      "Este coche es de color blanco de la marca Hyndai y modelo Grand i10 del año 2024\n",
      "Este coche es de color rojo de la marca Dodge y modelo challenger del año 2000\n",
      "Este coche es de color negro de la marca Renault y modelo Kwid del año 2016\n"
     ]
    }
   ],
   "source": [
    "class Coche:\n",
    "    def __init__(self, marca, modelo, año, color):\n",
    "        self.mark = marca  \n",
    "        self.model = modelo      \n",
    "        self.year = año\n",
    "        self.color = color\n",
    "\n",
    "    def descripcion(self):\n",
    "        print(f\"Este coche es de color {self.color} de la marca {self.mark} y modelo {self.model} del año {self.year}\")\n",
    "\n",
    "coche1 = Coche(\"Chevrolet\", \"aveo\", 2020, \"amarillo\")\n",
    "coche1.descripcion()\n",
    "\n",
    "coche2 = Coche(\"Hyndai\", \"Grand i10\", 2024, \"blanco\")\n",
    "coche2.descripcion()\n",
    "\n",
    "coche3 = Coche(\"Dodge\", \"challenger\", 2000, \"rojo\")\n",
    "coche3.descripcion()\n",
    "\n",
    "coche4 = Coche(\"Renault\", \"Kwid\", 2016, \"negro\")\n",
    "coche4.descripcion()"
   ]
  },
  {
   "cell_type": "code",
   "execution_count": 5,
   "metadata": {},
   "outputs": [
    {
     "name": "stdout",
     "output_type": "stream",
     "text": [
      "Bienvenido Dueño\n",
      "Tu capacidad es de 256\n"
     ]
    },
    {
     "data": {
      "text/plain": [
       "306"
      ]
     },
     "execution_count": 5,
     "metadata": {},
     "output_type": "execute_result"
    }
   ],
   "source": [
    "class App:\n",
    "    def __init__(self, usuarios, capacidad, nombreusuario):\n",
    "        self.usuarios=usuarios\n",
    "        self.capacidad=capacidad\n",
    "        self.nombreusuario=nombreusuario\n",
    "\n",
    "    def login(self):\n",
    "        if self.nombreusuario == \"Dueño\" and self.usuarios>=1:\n",
    "            print(f\"Bienvenido {self.nombreusuario}\")\n",
    "            print(f\"Tu capacidad es de {self.capacidad}\")\n",
    "\n",
    "    def incrementar(self,numero):\n",
    "        self.capacidad+=numero\n",
    "        return self.capacidad\n",
    "\n",
    "us1=App(35,256,\"Dueño\")\n",
    "us1.login()\n",
    "us1.incrementar(50)\n",
    "\n",
    "#us2=App(40,245,\"Alan\")\n",
    "#us2.login()\n"
   ]
  },
  {
   "cell_type": "code",
   "execution_count": 2,
   "metadata": {},
   "outputs": [
    {
     "name": "stdout",
     "output_type": "stream",
     "text": [
      "Aprobado\n",
      "Reprobado\n",
      "Aprobado\n"
     ]
    }
   ],
   "source": [
    "class Alumno:\n",
    "    def __init__(self, nombre, matricula):\n",
    "        self.nombre=nombre\n",
    "        self.matricula=matricula\n",
    "        self.calif=[]\n",
    "    \n",
    "    def agregar_calificacion(self, calificacion):\n",
    "        self.calif.append(calificacion)\n",
    "\n",
    "    def calcular_promedio(self):  \n",
    "        return sum(self.calif)/len(self.calif)   \n",
    "\n",
    "    def estado_final(self):\n",
    "        if self.calcular_promedio()>=70:\n",
    "            return \"Aprobado\"\n",
    "        else:\n",
    "            return \"Reprobado\"\n",
    "\n",
    "class Grupo:\n",
    "    def __init__(self, nombre_grupo):\n",
    "        self.nombre_grupo = nombre_grupo\n",
    "        self.alumnos = []\n",
    "\n",
    "    def agregar_alumno(self,alumno):\n",
    "        self.alumnos.append(alumno)\n",
    "\n",
    "    def mostrar_promedios(self):\n",
    "        print(f\"Promedios del grupo {self.nombre_grupo}:\")\n",
    "        for alumno in self.alumnos:\n",
    "            promedio = alumno.calcular_promedio()\n",
    "            estado = alumno.estado_final()\n",
    "            print(f\"{alumno.nombre} ({alumno.matricula}): Promedio = {promedio:.2f}, Estado = {estado}\")                \n",
    "        \n",
    "\n",
    "alumno1 = Alumno (\"Carlos Piña\", 6523)\n",
    "alumno2 = Alumno (\"Farid Rodriguez\", 7623)\n",
    "alumno3 = Alumno (\"Carlos Castillo\", 9878)\n",
    "\n",
    "alumno1.agregar_calificacion(85)\n",
    "alumno1.agregar_calificacion(90)\n",
    "alumno1.agregar_calificacion(78)\n",
    "\n",
    "alumno2.agregar_calificacion(65)\n",
    "alumno2.agregar_calificacion(70)\n",
    "alumno2.agregar_calificacion(68)\n",
    "\n",
    "alumno3.agregar_calificacion(92)\n",
    "alumno3.agregar_calificacion(88)\n",
    "alumno3.agregar_calificacion(95)\n",
    "\n",
    "print(alumno1.estado_final())\n",
    "print(alumno2.estado_final())\n",
    "print(alumno3.estado_final())\n",
    "\n",
    "\n",
    "    \n",
    "        \n",
    "\n",
    "\n",
    "        \n",
    "        \n",
    "    \n"
   ]
  }
 ],
 "metadata": {
  "kernelspec": {
   "display_name": "Python 3",
   "language": "python",
   "name": "python3"
  },
  "language_info": {
   "codemirror_mode": {
    "name": "ipython",
    "version": 3
   },
   "file_extension": ".py",
   "mimetype": "text/x-python",
   "name": "python",
   "nbconvert_exporter": "python",
   "pygments_lexer": "ipython3",
   "version": "3.13.1"
  }
 },
 "nbformat": 4,
 "nbformat_minor": 2
}
