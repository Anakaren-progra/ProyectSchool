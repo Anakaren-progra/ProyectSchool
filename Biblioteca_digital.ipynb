{
  "nbformat": 4,
  "nbformat_minor": 0,
  "metadata": {
    "colab": {
      "provenance": [],
      "authorship_tag": "ABX9TyN1VWEh65JfrxS5IO6p0IeS",
      "include_colab_link": true
    },
    "kernelspec": {
      "name": "python3",
      "display_name": "Python 3"
    },
    "language_info": {
      "name": "python"
    }
  },
  "cells": [
    {
      "cell_type": "markdown",
      "metadata": {
        "id": "view-in-github",
        "colab_type": "text"
      },
      "source": [
        "<a href=\"https://colab.research.google.com/github/Anakaren-progra/ProyectSchool/blob/main/Biblioteca_digital.ipynb\" target=\"_parent\"><img src=\"https://colab.research.google.com/assets/colab-badge.svg\" alt=\"Open In Colab\"/></a>"
      ]
    },
    {
      "cell_type": "code",
      "execution_count": 1,
      "metadata": {
        "id": "z4txJlj489TN"
      },
      "outputs": [],
      "source": [
        "from datetime import datetime, timedelta\n",
        "\n",
        "class Material:\n",
        "    def __init__(self, id, titulo, estado=\"disponible\"):\n",
        "        self.id = id\n",
        "        self.titulo = titulo\n",
        "        self.estado = estado\n",
        "\n",
        "    def __str__(self):\n",
        "        return f\"{self.titulo} ({self.estado})\""
      ]
    },
    {
      "cell_type": "code",
      "source": [
        "class Libro(Material):\n",
        "    def __init__(self, id, titulo, autor, genero):\n",
        "        super().__init__(id, titulo)\n",
        "        self.autor = autor\n",
        "        self.genero = genero\n",
        "\n",
        "    def __str__(self):\n",
        "        return f\"Libro: {self.titulo} por {self.autor} ({self.genero}) - {self.estado}\""
      ],
      "metadata": {
        "id": "HKCCMkDZ9DG7"
      },
      "execution_count": 2,
      "outputs": []
    },
    {
      "cell_type": "code",
      "source": [
        "class Revista(Material):\n",
        "    def __init__(self, id, titulo, edicion, periodicidad):\n",
        "        super().__init__(id, titulo)\n",
        "        self.edicion = edicion\n",
        "        self.periodicidad = periodicidad\n",
        "\n",
        "    def __str__(self):\n",
        "        return f\"Revista: {self.titulo} (Edición {self.edicion}, {self.periodicidad}) - {self.estado}\""
      ],
      "metadata": {
        "id": "GbSFaowF9HU2"
      },
      "execution_count": 3,
      "outputs": []
    },
    {
      "cell_type": "code",
      "source": [
        "class MaterialDigital(Material):\n",
        "    def __init__(self, id, titulo, tipo_archivo, enlace_descarga):\n",
        "        super().__init__(id, titulo)\n",
        "        self.tipo_archivo = tipo_archivo\n",
        "        self.enlace_descarga = enlace_descarga\n",
        "\n",
        "    def __str__(self):\n",
        "        return f\"Material Digital: {self.titulo} ({self.tipo_archivo}) - {self.estado}\""
      ],
      "metadata": {
        "id": "sfhpFqC_9LiI"
      },
      "execution_count": 4,
      "outputs": []
    },
    {
      "cell_type": "code",
      "source": [
        "class Persona:\n",
        "    def __init__(self, id, nombre):\n",
        "        self.id = id\n",
        "        self.nombre = nombre"
      ],
      "metadata": {
        "id": "Lus17tAc9OGo"
      },
      "execution_count": 5,
      "outputs": []
    },
    {
      "cell_type": "code",
      "source": [
        "class Usuario(Persona):\n",
        "    def __init__(self, id, nombre):\n",
        "        super().__init__(id, nombre)\n",
        "        self.prestamos = []\n",
        "        self.penalizaciones = []\n",
        "\n",
        "    def consultar_catalogo(self, catalogo):\n",
        "        print(\"Catálogo disponible:\")\n",
        "        for material in catalogo.materiales:\n",
        "            print(material)\n",
        "\n",
        "    def verificar_retrasos(self):\n",
        "        for prestamo in self.prestamos:\n",
        "            if prestamo.esta_retrasado():\n",
        "                penalizacion = Penalizacion(self, 10, \"Retraso en devolución\")\n",
        "                self.penalizaciones.append(penalizacion)\n",
        "                print(f\"Penalización aplicada a {self.nombre}: {penalizacion}\")"
      ],
      "metadata": {
        "id": "61I9qH1i9Q8j"
      },
      "execution_count": 6,
      "outputs": []
    },
    {
      "cell_type": "code",
      "source": [
        "class Bibliotecario(Persona):\n",
        "    def __init__(self, id, nombre):\n",
        "        super().__init__(id, nombre)\n",
        "\n",
        "    def agregar_material(self, catalogo, material):\n",
        "        catalogo.agregar_material(material)\n",
        "        print(f\"Material '{material.titulo}' agregado al catálogo.\")\n",
        "\n",
        "    def gestionar_prestamo(self, usuario, material):\n",
        "        if material.estado == \"disponible\":\n",
        "            material.estado = \"prestado\"\n",
        "            prestamo = Prestamo(usuario, material, 14)  # 14 días por defecto\n",
        "            usuario.prestamos.append(prestamo)\n",
        "            print(f\"Material '{material.titulo}' prestado a {usuario.nombre}.\")\n",
        "        else:\n",
        "            print(f\"Material '{material.titulo}' no está disponible.\")"
      ],
      "metadata": {
        "id": "ACQeWN139UHM"
      },
      "execution_count": 7,
      "outputs": []
    },
    {
      "cell_type": "code",
      "source": [
        "class Sucursal:\n",
        "    def __init__(self, id, nombre):\n",
        "        self.id = id\n",
        "        self.nombre = nombre\n",
        "        self.catalogo = Catalogo()\n",
        "\n",
        "    def transferir_material(self, material, otra_sucursal):\n",
        "        if material in self.catalogo.materiales:\n",
        "            self.catalogo.materiales.remove(material)\n",
        "            otra_sucursal.catalogo.materiales.append(material)\n",
        "            print(f\"Material '{material.titulo}' transferido a {otra_sucursal.nombre}.\")\n",
        "        else:\n",
        "            print(f\"Material '{material.titulo}' no encontrado en esta sucursal.\")\n",
        "\n",
        "    @staticmethod\n",
        "    def buscar_en_todas_sucursales(sucursales, criterio, valor):\n",
        "        resultados = []\n",
        "        for sucursal in sucursales:\n",
        "            resultados.extend(sucursal.catalogo.buscar_material(criterio, valor))\n",
        "        return resultados"
      ],
      "metadata": {
        "id": "GJCgTygp9Wvr"
      },
      "execution_count": 8,
      "outputs": []
    },
    {
      "cell_type": "code",
      "source": [
        "class Prestamo:\n",
        "    def __init__(self, usuario, material, dias_prestamo):\n",
        "        self.usuario = usuario\n",
        "        self.material = material\n",
        "        self.fecha_prestamo = datetime.now()\n",
        "        self.fecha_devolucion = self.fecha_prestamo + timedelta(days=dias_prestamo)\n",
        "\n",
        "    def esta_retrasado(self):\n",
        "        return datetime.now() > self.fecha_devolucion\n",
        "\n",
        "    def __str__(self):\n",
        "        estado = \"Retrasado\" if self.esta_retrasado() else \"En plazo\"\n",
        "        return (f\"Préstamo: {self.material.titulo} a {self.usuario.nombre} \"\n",
        "                f\"(Fecha préstamo: {self.fecha_prestamo.strftime('%Y-%m-%d')}, \"\n",
        "                f\"Fecha devolución: {self.fecha_devolucion.strftime('%Y-%m-%d')}, \"\n",
        "                f\"Estado: {estado})\")"
      ],
      "metadata": {
        "id": "hhLlL_Hd9Z1E"
      },
      "execution_count": 9,
      "outputs": []
    },
    {
      "cell_type": "code",
      "source": [
        "class Penalizacion:\n",
        "    def __init__(self, usuario, monto, motivo):\n",
        "        self.usuario = usuario\n",
        "        self.monto = monto\n",
        "        self.motivo = motivo\n",
        "\n",
        "    def __str__(self):\n",
        "        return f\"Penalización de ${self.monto} para {self.usuario.nombre} ({self.motivo})\"\n",
        "\n",
        "class Catalogo:\n",
        "    def __init__(self):\n",
        "        self.materiales = []\n",
        "\n",
        "    def agregar_material(self, material):\n",
        "        self.materiales.append(material)\n",
        "\n",
        "    def buscar_material(self, criterio, valor):\n",
        "        return [material for material in self.materiales if hasattr(material, criterio) and getattr(material, criterio) == valor]"
      ],
      "metadata": {
        "id": "-q0ZuNLf9cVB"
      },
      "execution_count": 10,
      "outputs": []
    },
    {
      "cell_type": "code",
      "source": [
        "\n",
        "usuario1 = Usuario(20245, \"Roberto Jiménez\")\n",
        "usuario2 = Usuario(20243, \"Carlos López\")\n",
        "bibliotecario1 = Bibliotecario(23, \"Karen Díaz\")\n",
        "bibliotecario2 = Bibliotecario(34,\"Margarita López\")\n",
        "\n",
        "sucursal1 = Sucursal(1, \"Sucursal Centro\")\n",
        "sucursal2 = Sucursal(2, \"Sucursal Maravillas\")\n",
        "\n",
        "sucursales = [sucursal1, sucursal2]\n",
        "\n",
        "sucursal1.catalogo.agregar_material(Libro(4, \"Cálculo diferencial\", \"Francisco Vega Hernández\", \"Académico\"))\n",
        "sucursal1.catalogo.agregar_material(Libro(6, \"Hábitos atómicos\", \"James Clear\", \"Desarrollo Personal\"))\n",
        "sucursal1.catalogo.agregar_material(Revista(5, \"Ideas Sónicas\", 13, \"Semestral\"))\n",
        "sucursal1.catalogo.agregar_material(MaterialDigital(6, \"Programación Creativa\", \"MP4\", \"http://domestika.com\"))\n",
        "\n",
        "\n",
        "sucursal2.catalogo.agregar_material(Libro(7, \"Viaje al centro de la Tierra\", \"Julio Verne\", \"Novela\"))\n",
        "sucursal2.catalogo.agregar_material(Revista(8, \"Muy interesante\", 456, \"Mensual\"))\n",
        "sucursal2.catalogo.agregar_material(MaterialDigital(9, \"Autopromoción artística\", \"PDF\", \"http://KareenaDíaz.com\"))\n",
        "\n",
        "resultados = Sucursal.buscar_en_todas_sucursales(sucursales, \"titulo\", \"Muy interesante\")\n",
        "\n",
        "if resultados:\n",
        "  print(\"Resultados de búsqueda:\")\n",
        "  for material in resultados:\n",
        "    print(material)\n",
        "else:\n",
        "    print(\"El material buscado no está disponible en ninguna sucursal.\")\n",
        "material_a_transferir = None\n",
        "for material in sucursal2.catalogo.materiales:\n",
        "    if material.titulo == \"Viaje al centro de la Tierra\":\n",
        "        material_a_transferir = material\n",
        "        break\n",
        "\n",
        "\n",
        "if material_a_transferir:\n",
        "    sucursal2.transferir_material(material_a_transferir, sucursal1)\n",
        "else:\n",
        "    print(f\"El material no se encuentra en Sucursal\")\n",
        "\n",
        "usuario1.consultar_catalogo(sucursal1.catalogo)\n",
        "usuario1.consultar_catalogo(sucursal2.catalogo)\n",
        "\n",
        "material_a_prestar = None\n",
        "for material in sucursal1.catalogo.materiales:\n",
        "    if material.titulo == \"Ideas Sónicas\" and material.estado == \"disponible\":\n",
        "        material_a_prestar = material\n",
        "        break\n",
        "\n",
        "if material_a_prestar:\n",
        "    bibliotecario1.gestionar_prestamo(usuario2, material_a_prestar)\n",
        "else:\n",
        "    print(\"El material no está disponible para préstamo.\")\n",
        "\n",
        "from datetime import datetime, timedelta\n",
        "\n",
        "fecha_simulada = datetime(2025, 2, 28) + timedelta(days=2)\n",
        "\n",
        "\n",
        "material_prestado = Revista(5, \"Ideas sónicas\", \"13\", \"Semestral\")\n",
        "prestamo = Prestamo(usuario1, material_prestado, 14)  # Préstamo de 14 días\n",
        "usuario1.prestamos.append(prestamo)\n",
        "\n",
        "\n",
        "prestamo.fecha_prestamo = fecha_simulada - timedelta(days=20)\n",
        "prestamo.fecha_devolucion = prestamo.fecha_prestamo + timedelta(days=14)\n",
        "\n",
        "dias_retraso = (fecha_simulada - prestamo.fecha_devolucion).days if fecha_simulada > prestamo.fecha_devolucion else 0\n",
        "\n",
        "\n",
        "if dias_retraso > 0:\n",
        "    monto_penalizacion = dias_retraso * 10\n",
        "    penalizacion = Penalizacion(usuario1, monto_penalizacion, \"Retraso en devolución\")\n",
        "    usuario1.penalizaciones.append(penalizacion)\n",
        "\n",
        "print(f\"--- Simulación al {fecha_simulada.strftime('%Y-%m-%d')} ---\")\n",
        "print(f\"Usuario: {usuario1.nombre}\")\n",
        "print(f\"Material prestado: {material_prestado.titulo}\")\n",
        "print(f\"Fecha de préstamo: {prestamo.fecha_prestamo.strftime('%Y-%m-%d')}\")\n",
        "print(f\"Fecha de devolución esperada: {prestamo.fecha_devolucion.strftime('%Y-%m-%d')}\")\n",
        "print(f\"Fecha actual (simulada): {fecha_simulada.strftime('%Y-%m-%d')}\")\n",
        "print(f\"Días de retraso: {dias_retraso}\")\n",
        "\n",
        "if usuario1.penalizaciones:\n",
        "    print(f\"Monto total a pagar por penalización: ${usuario1.penalizaciones[-1].monto}\")\n",
        "else:\n",
        "    print(\"No hay penalización.\")\n",
        "\n",
        "\n",
        "\n",
        "\n"
      ],
      "metadata": {
        "colab": {
          "base_uri": "https://localhost:8080/"
        },
        "id": "Rfo7Ar9l9fUS",
        "outputId": "c6166e9c-8326-4dc8-d572-e54a2c551173"
      },
      "execution_count": 23,
      "outputs": [
        {
          "output_type": "stream",
          "name": "stdout",
          "text": [
            "Resultados de búsqueda:\n",
            "Revista: Muy interesante (Edición 456, Mensual) - disponible\n",
            "Material 'Viaje al centro de la Tierra' transferido a Sucursal Centro.\n",
            "Catálogo disponible:\n",
            "Libro: Cálculo diferencial por Francisco Vega Hernández (Académico) - disponible\n",
            "Libro: Hábitos atómicos por James Clear (Desarrollo Personal) - disponible\n",
            "Revista: Ideas Sónicas (Edición 13, Semestral) - disponible\n",
            "Material Digital: Programación Creativa (MP4) - disponible\n",
            "Libro: Viaje al centro de la Tierra por Julio Verne (Novela) - disponible\n",
            "Catálogo disponible:\n",
            "Revista: Muy interesante (Edición 456, Mensual) - disponible\n",
            "Material Digital: Autopromoción artística (PDF) - disponible\n",
            "Material 'Ideas Sónicas' prestado a Carlos López.\n",
            "--- Simulación al 2025-03-02 ---\n",
            "Usuario: Roberto Jiménez\n",
            "Material prestado: Ideas sónicas\n",
            "Fecha de préstamo: 2025-02-10\n",
            "Fecha de devolución esperada: 2025-02-24\n",
            "Fecha actual (simulada): 2025-03-02\n",
            "Días de retraso: 6\n",
            "Monto total a pagar por penalización: $60\n"
          ]
        }
      ]
    }
  ]
}